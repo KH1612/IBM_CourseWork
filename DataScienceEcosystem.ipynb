{
  "nbformat": 4,
  "nbformat_minor": 0,
  "metadata": {
    "colab": {
      "provenance": []
    },
    "kernelspec": {
      "name": "python3",
      "display_name": "Python 3"
    },
    "language_info": {
      "name": "python"
    }
  },
  "cells": [
    {
      "cell_type": "markdown",
      "source": [
        "<h1>Data Science Tools and Ecosystem</h1>"
      ],
      "metadata": {
        "id": "HHPk4wmDtLv4"
      }
    },
    {
      "cell_type": "markdown",
      "source": [
        "In this notebook, Data Science Tools and Ecosystem are summarized."
      ],
      "metadata": {
        "id": "Wt823njetVBE"
      }
    },
    {
      "cell_type": "markdown",
      "source": [
        "Objectives:\n",
        "\n",
        "\n",
        "*   Learn about Python\n",
        "*   Learn about R\n",
        "*   Learn about Jupyter Notebooks\n",
        "\n"
      ],
      "metadata": {
        "id": "yEwTXPNTwwAK"
      }
    },
    {
      "cell_type": "markdown",
      "source": [
        "Some of the popular languages that Data Scientists use are:\n",
        "\n",
        "\n",
        "1.   Python\n",
        "2.   R\n",
        "3. Julia\n",
        "4. C++\n",
        "\n"
      ],
      "metadata": {
        "id": "J5dVT-bctdfH"
      }
    },
    {
      "cell_type": "markdown",
      "source": [
        "Some of the commonly used libraries used by Data Scientists include:\n",
        "\n",
        "\n",
        "1.   Numpy\n",
        "2.   Pandas\n",
        "3.  Matplotlib\n",
        "\n"
      ],
      "metadata": {
        "id": "aXEUemmotzrI"
      }
    },
    {
      "cell_type": "markdown",
      "source": [
        "| Data Science Tools|\n",
        "| --- |\n",
        "| Watson |  \n",
        "| VSCode |  \n",
        "| Spark |  \n"
      ],
      "metadata": {
        "id": "1gWL7otyuD07"
      }
    },
    {
      "cell_type": "markdown",
      "source": [
        "<h3>Below are a few examples of evaluating arithmetic expressions in Python</h3>"
      ],
      "metadata": {
        "id": "p_Z5KF0DvSdi"
      }
    },
    {
      "cell_type": "code",
      "source": [
        "#This a simple arithmetic expression to mutiply then add integers\n",
        "(3*4)+5"
      ],
      "metadata": {
        "colab": {
          "base_uri": "https://localhost:8080/"
        },
        "id": "TSl8dQ_TvoDY",
        "outputId": "1851e89b-3f7a-4ed1-df2e-8ec850e7a209"
      },
      "execution_count": null,
      "outputs": [
        {
          "output_type": "execute_result",
          "data": {
            "text/plain": [
              "17"
            ]
          },
          "metadata": {},
          "execution_count": 1
        }
      ]
    },
    {
      "cell_type": "code",
      "source": [
        "#This will convert 200 minutes to hours by diving by 60\n",
        "str(200//60) + \":\" + str(200 %60)"
      ],
      "metadata": {
        "colab": {
          "base_uri": "https://localhost:8080/",
          "height": 35
        },
        "id": "LrmZBaI9v6NS",
        "outputId": "84d011c7-1c66-4204-93c6-eb92d5163584"
      },
      "execution_count": null,
      "outputs": [
        {
          "output_type": "execute_result",
          "data": {
            "text/plain": [
              "'3:20'"
            ],
            "application/vnd.google.colaboratory.intrinsic+json": {
              "type": "string"
            }
          },
          "metadata": {},
          "execution_count": 5
        }
      ]
    },
    {
      "cell_type": "markdown",
      "source": [
        "<h2>Author</h2>\n",
        "Khaleel Hassan"
      ],
      "metadata": {
        "id": "5MRRAUBsxLjt"
      }
    }
  ]
}